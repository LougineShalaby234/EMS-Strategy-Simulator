{
  "nbformat": 4,
  "nbformat_minor": 0,
  "metadata": {
    "colab": {
      "provenance": [],
      "authorship_tag": "ABX9TyO31t+r39bT/N6CVTQwEGgQ",
      "include_colab_link": true
    },
    "kernelspec": {
      "name": "python3",
      "display_name": "Python 3"
    },
    "language_info": {
      "name": "python"
    }
  },
  "cells": [
    {
      "cell_type": "markdown",
      "metadata": {
        "id": "view-in-github",
        "colab_type": "text"
      },
      "source": [
        "<a href=\"https://colab.research.google.com/github/LougineShalaby234/EMS-Strategy-Simulator/blob/main/Getting_Started_with_EMS_Simulator.ipynb\" target=\"_parent\"><img src=\"https://colab.research.google.com/assets/colab-badge.svg\" alt=\"Open In Colab\"/></a>"
      ]
    },
    {
      "cell_type": "markdown",
      "source": [
        "## 🚑 **Ambulance Simulator: Interactive Environment Runner**"
      ],
      "metadata": {
        "id": "mrV0Qc2rtjr2"
      }
    },
    {
      "cell_type": "markdown",
      "source": [
        "**1. Install system and pip dependencies**"
      ],
      "metadata": {
        "id": "qFSuA1S3u-wz"
      }
    },
    {
      "cell_type": "code",
      "source": [
        "!pip install numpy scipy joblib folium requests pandas matplotlib seaborn python-dotenv pytest pytest-cov lightgbm scikit-learn polyline here-polyline-converter git+https://github.com/gerritgr/SimpleOSMRenderer.git\n"
      ],
      "metadata": {
        "id": "_8P0-zPcthtu"
      },
      "execution_count": null,
      "outputs": []
    },
    {
      "cell_type": "markdown",
      "source": [
        "**2. Clone the repository**"
      ],
      "metadata": {
        "id": "VQYAeMx7vEbL"
      }
    },
    {
      "cell_type": "code",
      "execution_count": null,
      "metadata": {
        "id": "CFJ2YAWls90O"
      },
      "outputs": [],
      "source": [
        "!git clone https://github.com/LougineShalaby234/AmbulanceStrategySimulator.git\n",
        "%cd AmbulanceStrategySimulator"
      ]
    },
    {
      "cell_type": "markdown",
      "source": [
        "**3.Run the simulator**"
      ],
      "metadata": {
        "id": "UkPol9T6vLm-"
      }
    },
    {
      "cell_type": "code",
      "source": [
        "!python simulator.py"
      ],
      "metadata": {
        "id": "Vu8MQZTQudF2"
      },
      "execution_count": null,
      "outputs": []
    },
    {
      "cell_type": "markdown",
      "source": [
        "**4.Run simulation with custom inputs**"
      ],
      "metadata": {
        "id": "HdwZIdUvvWpK"
      }
    },
    {
      "cell_type": "code",
      "source": [
        "!python simulator.py --map=\"input/map_MontgomeryPennsylvania.json\" --scenario=\"input/calls_MontgomeryPennsylvania_Sunday.json\""
      ],
      "metadata": {
        "id": "a_Ul0MD2ufUG"
      },
      "execution_count": null,
      "outputs": []
    },
    {
      "cell_type": "markdown",
      "source": [
        "**5.Generate visualizations**"
      ],
      "metadata": {
        "id": "iH2tTqE4vbf6"
      }
    },
    {
      "cell_type": "code",
      "source": [
        "!python translate_log_to_visual.py\n",
        "!python render.py"
      ],
      "metadata": {
        "id": "dmzwzhGlujkp"
      },
      "execution_count": null,
      "outputs": []
    },
    {
      "cell_type": "code",
      "source": [
        "!python final_visualization.py"
      ],
      "metadata": {
        "id": "j5xFbB4cum9U"
      },
      "execution_count": null,
      "outputs": []
    }
  ]
}
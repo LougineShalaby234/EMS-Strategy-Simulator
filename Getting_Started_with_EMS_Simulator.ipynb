{
  "cells": [
    {
      "cell_type": "markdown",
      "metadata": {
        "colab_type": "text",
        "id": "view-in-github"
      },
      "source": [
        "<a href=\"https://colab.research.google.com/github/LougineShalaby234/EMS-Strategy-Simulator/blob/main/Getting_Started_with_EMS_Simulator.ipynb\" target=\"_parent\"><img src=\"https://colab.research.google.com/assets/colab-badge.svg\" alt=\"Open In Colab\"/></a>"
      ]
    },
    {
      "cell_type": "markdown",
      "metadata": {
        "id": "mrV0Qc2rtjr2"
      },
      "source": [
        "## 🚑 **Ambulance Simulator: Interactive Environment Runner**"
      ]
    },
    {
      "cell_type": "markdown",
      "metadata": {
        "id": "qFSuA1S3u-wz"
      },
      "source": [
        "**1. Install system and pip dependencies**"
      ]
    },
    {
      "cell_type": "code",
      "execution_count": null,
      "metadata": {
        "id": "_8P0-zPcthtu"
      },
      "outputs": [],
      "source": [
        "!pip install numpy scipy joblib folium requests pandas matplotlib seaborn python-dotenv pytest pytest-cov lightgbm scikit-learn polyline here-polyline-converter git+https://github.com/gerritgr/SimpleOSMRenderer.git\n"
      ]
    },
    {
      "cell_type": "markdown",
      "metadata": {
        "id": "VQYAeMx7vEbL"
      },
      "source": [
        "**2. Clone the repository**"
      ]
    },
    {
      "cell_type": "code",
      "execution_count": null,
      "metadata": {
        "id": "CFJ2YAWls90O"
      },
      "outputs": [],
      "source": [
        "!git clone https://github.com/LougineShalaby234/EmsStrategySimulator.git\n",
        "%cd EmsStrategySimulator"
      ]
    },
    {
      "cell_type": "markdown",
      "metadata": {
        "id": "UkPol9T6vLm-"
      },
      "source": [
        "**3.Run the simulator**"
      ]
    },
    {
      "cell_type": "code",
      "execution_count": null,
      "metadata": {
        "id": "Vu8MQZTQudF2"
      },
      "outputs": [],
      "source": [
        "!python simulator.py"
      ]
    },
    {
      "cell_type": "markdown",
      "metadata": {
        "id": "HdwZIdUvvWpK"
      },
      "source": [
        "**4.Run simulation with custom inputs**"
      ]
    },
    {
      "cell_type": "code",
      "execution_count": null,
      "metadata": {
        "id": "a_Ul0MD2ufUG"
      },
      "outputs": [],
      "source": [
        "!python simulator.py --map=\"input/map_MontgomeryPennsylvania.json\" --scenario=\"input/calls_MontgomeryPennsylvania_Sunday.json\""
      ]
    },
    {
      "cell_type": "markdown",
      "metadata": {
        "id": "iH2tTqE4vbf6"
      },
      "source": [
        "**5.Generate visualizations**"
      ]
    },
    {
      "cell_type": "code",
      "execution_count": null,
      "metadata": {
        "id": "dmzwzhGlujkp"
      },
      "outputs": [],
      "source": [
        "!python translate_log_to_visual.py\n",
        "!python render.py"
      ]
    },
    {
      "cell_type": "code",
      "execution_count": null,
      "metadata": {
        "id": "j5xFbB4cum9U"
      },
      "outputs": [],
      "source": [
        "!python final_visualization.py"
      ]
    }
  ],
  "metadata": {
    "colab": {
      "authorship_tag": "ABX9TyO31t+r39bT/N6CVTQwEGgQ",
      "include_colab_link": true,
      "provenance": []
    },
    "kernelspec": {
      "display_name": "Python 3",
      "name": "python3"
    },
    "language_info": {
      "name": "python"
    }
  },
  "nbformat": 4,
  "nbformat_minor": 0
}
